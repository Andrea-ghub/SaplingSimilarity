{
 "cells": [
  {
   "cell_type": "code",
   "execution_count": 8,
   "id": "f34812ac",
   "metadata": {},
   "outputs": [],
   "source": [
    "import numpy as np\n",
    "import utils\n",
    "import similarities as sml\n",
    "from parse import parse_args\n",
    "import time\n",
    "import argparse"
   ]
  },
  {
   "cell_type": "code",
   "execution_count": 12,
   "id": "a26b0cc9",
   "metadata": {},
   "outputs": [],
   "source": [
    "# t1 = time.time()\n",
    "\n",
    "# args = parse_args()\n",
    "\n",
    "g = 0.5\n",
    "data = \"export\"\n",
    "model = \"sapling_similarity\"\n",
    "test_data = \"test\""
   ]
  },
  {
   "cell_type": "code",
   "execution_count": 22,
   "id": "cb466d18",
   "metadata": {},
   "outputs": [
    {
     "name": "stdout",
     "output_type": "stream",
     "text": [
      "reading data...\n",
      "measuring similarity of users...\n",
      "measuring user-based recommendations...\n",
      "measuring similarity of items...\n",
      "measuring item-based recommendations...\n",
      "measuring final model recommendations...\n",
      "measuring performance of user-based...\n"
     ]
    },
    {
     "name": "stderr",
     "output_type": "stream",
     "text": [
      "C:\\Users\\scanu\\AppData\\Local\\Temp\\ipykernel_24508\\4036053002.py:19: RuntimeWarning: invalid value encountered in divide\n",
      "  rec_i = np.nan_to_num(np.dot(M,B)/np.sum(abs(B), axis = 0))\n"
     ]
    },
    {
     "name": "stdout",
     "output_type": "stream",
     "text": [
      "measuring performance of item-based...\n",
      "measuring performance of final model...\n",
      "\n",
      "RESULTS\n",
      "\n",
      "user-based\n",
      "precision@20:\t0.08857988165680472\n",
      "recall@20:\t0.37540655477757195\n",
      "ndcg@20:\t0.2842076706665898\n",
      "item-based\n",
      "precision@20:\t0.0810650887573964\n",
      "recall@20:\t0.3275837316788511\n",
      "ndcg@20:\t0.2555834881319762\n",
      "final model\n",
      "precision@20:\t0.08827218934911239\n",
      "recall@20:\t0.3752437629816363\n",
      "ndcg@20:\t0.2868294450536931\n"
     ]
    }
   ],
   "source": [
    "print(\"reading data...\")\n",
    "\n",
    "if test_data == \"validation\":\n",
    "    N_users, N_items, M, train, test, = utils.read_data_validation(data)\n",
    "else:\n",
    "    N_users, N_items, M, train, test = utils.read_data(data)\n",
    "M = M.astype(np.float32)\n",
    "\n",
    "print(\"measuring similarity of users...\")\n",
    "B = sml.similarity(M,model,0)\n",
    "\n",
    "print(\"measuring user-based recommendations...\")\n",
    "rec_u = np.nan_to_num(np.dot(B,M).T/np.sum(abs(B), axis = 1)).T \n",
    "\n",
    "print(\"measuring similarity of items...\")\n",
    "B = sml.similarity(M,model,1)\n",
    "\n",
    "print(\"measuring item-based recommendations...\")\n",
    "rec_i = np.nan_to_num(np.dot(M,B)/np.sum(abs(B), axis = 0)) \n",
    "\n",
    "print(\"measuring final model recommendations...\")\n",
    "rec = (1-g)*rec_u+g*rec_i\n",
    "\n",
    "\n",
    "print(\"measuring performance of user-based...\")\n",
    "scores_user = utils.scores(train, test, rec_u, N_users, N_items, K = 500)\n",
    "\n",
    "print(\"measuring performance of item-based...\")\n",
    "scores_item = utils.scores(train, test, rec_i, N_users, N_items, K = 500)\n",
    "\n",
    "print(\"measuring performance of final model...\")\n",
    "scores = utils.scores(train, test, rec, N_users, N_items, K = 500)\n",
    "\n",
    "print(\"\\nRESULTS\\n\")\n",
    "print(\"user-based\")\n",
    "print(\"precision@20:\\t{}\\nrecall@20:\\t{}\\nndcg@20:\\t{}\".format(scores_user[0],scores_user[1],scores_user[2]))\n",
    "print(\"item-based\")\n",
    "print(\"precision@20:\\t{}\\nrecall@20:\\t{}\\nndcg@20:\\t{}\".format(scores_item[0],scores_item[1],scores_item[2]))\n",
    "print(\"final model\")\n",
    "print(\"precision@20:\\t{}\\nrecall@20:\\t{}\\nndcg@20:\\t{}\".format(scores[0],scores[1],scores[2]))\n",
    "\n",
    "t2 = time.time()\n",
    "# print(t2-t1,\"seconds\")\n",
    "\n"
   ]
  },
  {
   "cell_type": "code",
   "execution_count": 19,
   "id": "aa7785bf",
   "metadata": {},
   "outputs": [
    {
     "data": {
      "text/plain": [
       "array([[0.03030786, 0.06434891, 0.04189567, ..., 0.45123503, 0.44927844,\n",
       "        0.39932513],\n",
       "       [0.03510082, 0.05219507, 0.02564366, ..., 0.3044504 , 0.08903742,\n",
       "        0.02365868],\n",
       "       [0.00776602, 0.00604635, 0.00482201, ..., 0.00897408, 0.01269752,\n",
       "        0.02136418],\n",
       "       ...,\n",
       "       [0.025898  , 0.04252488, 0.03754272, ..., 0.11175014, 0.03975465,\n",
       "        0.0400012 ],\n",
       "       [0.02438757, 0.0274831 , 0.0529975 , ..., 0.39549142, 0.04802641,\n",
       "        0.02530544],\n",
       "       [0.01427247, 0.02173284, 0.3047336 , ..., 0.38662744, 0.0397428 ,\n",
       "        0.01187501]], dtype=float32)"
      ]
     },
     "execution_count": 19,
     "metadata": {},
     "output_type": "execute_result"
    }
   ],
   "source": [
    "rec"
   ]
  },
  {
   "cell_type": "code",
   "execution_count": 20,
   "id": "c9ad092b",
   "metadata": {},
   "outputs": [
    {
     "data": {
      "text/plain": [
       "169"
      ]
     },
     "execution_count": 20,
     "metadata": {},
     "output_type": "execute_result"
    }
   ],
   "source": [
    "len(rec)"
   ]
  },
  {
   "cell_type": "code",
   "execution_count": 21,
   "id": "8bfcedc2",
   "metadata": {},
   "outputs": [
    {
     "data": {
      "text/plain": [
       "169"
      ]
     },
     "execution_count": 21,
     "metadata": {},
     "output_type": "execute_result"
    }
   ],
   "source": [
    "len(rec_u)"
   ]
  },
  {
   "cell_type": "code",
   "execution_count": null,
   "id": "8a6abe54",
   "metadata": {},
   "outputs": [],
   "source": []
  }
 ],
 "metadata": {
  "kernelspec": {
   "display_name": "Python 3 (ipykernel)",
   "language": "python",
   "name": "python3"
  },
  "language_info": {
   "codemirror_mode": {
    "name": "ipython",
    "version": 3
   },
   "file_extension": ".py",
   "mimetype": "text/x-python",
   "name": "python",
   "nbconvert_exporter": "python",
   "pygments_lexer": "ipython3",
   "version": "3.9.13"
  }
 },
 "nbformat": 4,
 "nbformat_minor": 5
}
