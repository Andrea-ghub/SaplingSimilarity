{
 "cells": [
  {
   "cell_type": "code",
   "execution_count": 2,
   "id": "6c8045bd",
   "metadata": {},
   "outputs": [],
   "source": [
    "import numpy as np\n",
    "import pandas as pd\n",
    "import metrics as metr\n",
    "import similarities as sml\n",
    "from scipy.io import mmread\n",
    "import sklearn"
   ]
  },
  {
   "cell_type": "code",
   "execution_count": 32,
   "id": "68ffd2b1",
   "metadata": {},
   "outputs": [],
   "source": [
    "first_year = 2002\n",
    "N_years = 11\n",
    "\n",
    "# modify ex to switch prediction exercise:\n",
    "# ex = 0: target prediction\n",
    "# ex = 1: acquirer prediction\n",
    "# ex = 2: pair prediction+\n",
    "\n",
    "ex = 2\n",
    "\n",
    "# modify CI to set the class imbalance\n",
    "CI = 1\n",
    "\n",
    "# choose the method to use:\n",
    "# bin = matrix M without weights\n",
    "# (1) = with the adjustment that accounts for the size of the firm\n",
    "# (2) = with the adjustment that accounts for the rarity of the technology\n",
    "S = 7"
   ]
  },
  {
   "cell_type": "code",
   "execution_count": 16,
   "id": "b5f9549b",
   "metadata": {},
   "outputs": [],
   "source": [
    "similarity = [\"SS bin\",\"SS(1) bin\",\"SS(2) bin \",\"SS(1+2) bin\",\"SS\",\"SS(1)\",\"SS(2)\",\"SS(1+2)\",\"LightGCN\"]\n",
    "\n",
    "# loading data\n",
    "companies = pd.read_csv(\"../data/companies.txt\", header = None).to_numpy()[:,0]\n",
    "# ma \n",
    "# [[target1,acquirer1,year1],[target2,acquirer2,year2],[target3,acquirer3,year3], ... ]\n",
    "ma = pd.read_csv(\"../data/ma.txt\").to_numpy() #mergers and aquisitions"
   ]
  },
  {
   "cell_type": "code",
   "execution_count": 17,
   "id": "4b175dc9",
   "metadata": {},
   "outputs": [
    {
     "data": {
      "text/html": [
       "<div>\n",
       "<style scoped>\n",
       "    .dataframe tbody tr th:only-of-type {\n",
       "        vertical-align: middle;\n",
       "    }\n",
       "\n",
       "    .dataframe tbody tr th {\n",
       "        vertical-align: top;\n",
       "    }\n",
       "\n",
       "    .dataframe thead th {\n",
       "        text-align: right;\n",
       "    }\n",
       "</style>\n",
       "<table border=\"1\" class=\"dataframe\">\n",
       "  <thead>\n",
       "    <tr style=\"text-align: right;\">\n",
       "      <th></th>\n",
       "      <th>Target</th>\n",
       "      <th>Acquirer</th>\n",
       "      <th>Year</th>\n",
       "    </tr>\n",
       "  </thead>\n",
       "  <tbody>\n",
       "    <tr>\n",
       "      <th>0</th>\n",
       "      <td>4777</td>\n",
       "      <td>265</td>\n",
       "      <td>2002</td>\n",
       "    </tr>\n",
       "    <tr>\n",
       "      <th>1</th>\n",
       "      <td>7909</td>\n",
       "      <td>47</td>\n",
       "      <td>2002</td>\n",
       "    </tr>\n",
       "    <tr>\n",
       "      <th>2</th>\n",
       "      <td>6361</td>\n",
       "      <td>2311</td>\n",
       "      <td>2002</td>\n",
       "    </tr>\n",
       "    <tr>\n",
       "      <th>3</th>\n",
       "      <td>1395</td>\n",
       "      <td>14</td>\n",
       "      <td>2002</td>\n",
       "    </tr>\n",
       "    <tr>\n",
       "      <th>4</th>\n",
       "      <td>7909</td>\n",
       "      <td>47</td>\n",
       "      <td>2002</td>\n",
       "    </tr>\n",
       "    <tr>\n",
       "      <th>...</th>\n",
       "      <td>...</td>\n",
       "      <td>...</td>\n",
       "      <td>...</td>\n",
       "    </tr>\n",
       "    <tr>\n",
       "      <th>542</th>\n",
       "      <td>5972</td>\n",
       "      <td>1827</td>\n",
       "      <td>2012</td>\n",
       "    </tr>\n",
       "    <tr>\n",
       "      <th>543</th>\n",
       "      <td>8310</td>\n",
       "      <td>777</td>\n",
       "      <td>2012</td>\n",
       "    </tr>\n",
       "    <tr>\n",
       "      <th>544</th>\n",
       "      <td>6661</td>\n",
       "      <td>8703</td>\n",
       "      <td>2012</td>\n",
       "    </tr>\n",
       "    <tr>\n",
       "      <th>545</th>\n",
       "      <td>2594</td>\n",
       "      <td>8705</td>\n",
       "      <td>2012</td>\n",
       "    </tr>\n",
       "    <tr>\n",
       "      <th>546</th>\n",
       "      <td>7509</td>\n",
       "      <td>4980</td>\n",
       "      <td>2012</td>\n",
       "    </tr>\n",
       "  </tbody>\n",
       "</table>\n",
       "<p>547 rows × 3 columns</p>\n",
       "</div>"
      ],
      "text/plain": [
       "     Target  Acquirer  Year\n",
       "0      4777       265  2002\n",
       "1      7909        47  2002\n",
       "2      6361      2311  2002\n",
       "3      1395        14  2002\n",
       "4      7909        47  2002\n",
       "..      ...       ...   ...\n",
       "542    5972      1827  2012\n",
       "543    8310       777  2012\n",
       "544    6661      8703  2012\n",
       "545    2594      8705  2012\n",
       "546    7509      4980  2012\n",
       "\n",
       "[547 rows x 3 columns]"
      ]
     },
     "execution_count": 17,
     "metadata": {},
     "output_type": "execute_result"
    }
   ],
   "source": [
    "pd.read_csv(\"../data/ma.txt\")"
   ]
  },
  {
   "cell_type": "code",
   "execution_count": 18,
   "id": "f3321c88",
   "metadata": {},
   "outputs": [],
   "source": [
    "M = []\n",
    "for y in range(N_years):\n",
    "    M.append(np.array(mmread('../data/M/M_{}.mtx'.format(first_year+y)).todense()))\n",
    "N_comp = M[0].shape[0]\n",
    "N_tech = M[0].shape[1]\n",
    "\n",
    "\n",
    "# turn co0 to True to consider only firms with 0 co-occurrences\n",
    "co0 = False\n",
    "if co0:\n",
    "    idx = []\n",
    "    for i in range(ma.shape[0]):\n",
    "        if np.dot(M[ma[i,2]-first_year][ma[i,0],:],M[ma[i,2]-first_year][ma[i,1],:]) == 0:\n",
    "            idx.append(i)\n",
    "    ma = ma[idx]"
   ]
  },
  {
   "cell_type": "code",
   "execution_count": 19,
   "id": "de03dfb9",
   "metadata": {},
   "outputs": [
    {
     "name": "stdout",
     "output_type": "stream",
     "text": [
      "measuring SS(1+2): 2002\n"
     ]
    },
    {
     "name": "stderr",
     "output_type": "stream",
     "text": [
      "C:\\Users\\scanu\\SaplingSimilarity\\m&a\\code\\similarities.py:63: RuntimeWarning: invalid value encountered in divide\n",
      "  CO = np.dot(np.nan_to_num(M/ki),M.T)\n",
      "C:\\Users\\scanu\\SaplingSimilarity\\m&a\\code\\similarities.py:66: RuntimeWarning: invalid value encountered in divide\n",
      "  B = np.nan_to_num(np.nan_to_num(((1-(CO*(1-CO/k)+(k-CO.T).T*(1-(k-CO.T).T/(N-k))).T/(k*(1-k/N))).T*np.sign(((CO*N/k).T/k).T-1)).T/kt).T*kt)\n",
      "C:\\Users\\scanu\\SaplingSimilarity\\m&a\\code\\similarities.py:66: RuntimeWarning: divide by zero encountered in divide\n",
      "  B = np.nan_to_num(np.nan_to_num(((1-(CO*(1-CO/k)+(k-CO.T).T*(1-(k-CO.T).T/(N-k))).T/(k*(1-k/N))).T*np.sign(((CO*N/k).T/k).T-1)).T/kt).T*kt)\n",
      "C:\\Users\\scanu\\SaplingSimilarity\\m&a\\code\\similarities.py:66: RuntimeWarning: invalid value encountered in multiply\n",
      "  B = np.nan_to_num(np.nan_to_num(((1-(CO*(1-CO/k)+(k-CO.T).T*(1-(k-CO.T).T/(N-k))).T/(k*(1-k/N))).T*np.sign(((CO*N/k).T/k).T-1)).T/kt).T*kt)\n",
      "C:\\Users\\scanu\\SaplingSimilarity\\m&a\\code\\similarities.py:66: RuntimeWarning: overflow encountered in multiply\n",
      "  B = np.nan_to_num(np.nan_to_num(((1-(CO*(1-CO/k)+(k-CO.T).T*(1-(k-CO.T).T/(N-k))).T/(k*(1-k/N))).T*np.sign(((CO*N/k).T/k).T-1)).T/kt).T*kt)\n"
     ]
    },
    {
     "name": "stdout",
     "output_type": "stream",
     "text": [
      "measuring SS(1+2): 2003\n",
      "measuring SS(1+2): 2004\n",
      "measuring SS(1+2): 2005\n",
      "measuring SS(1+2): 2006\n",
      "measuring SS(1+2): 2007\n",
      "measuring SS(1+2): 2008\n",
      "measuring SS(1+2): 2009\n",
      "measuring SS(1+2): 2010\n",
      "measuring SS(1+2): 2011\n",
      "measuring SS(1+2): 2012\n"
     ]
    }
   ],
   "source": [
    "# computing sapling\n",
    "B = []\n",
    "for y in range(N_years):\n",
    "    print(f\"measuring {similarity[S]}: {first_year+y}\")\n",
    "    if S == 0:\n",
    "        B.append(sml.sapling_bin(M[y]))\n",
    "    elif S == 1:\n",
    "        B.append(sml.sapling_asym_bin(M[y]))\n",
    "    elif S == 2:\n",
    "        B.append(sml.sapling_RA_bin(M[y]))\n",
    "    elif S == 3:\n",
    "        B.append(sml.sapling_asym_RA_bin(M[y]))\n",
    "    elif S == 4:\n",
    "        B.append(sml.sapling(M[y]))\n",
    "    elif S == 5:\n",
    "        B.append(sml.sapling_asym(M[y]))\n",
    "    elif S == 6:\n",
    "        B.append(sml.sapling_RA(M[y]))\n",
    "    elif S == 7:\n",
    "        B.append(sml.sapling_asym_RA(M[y]))\n",
    "    elif S == 8:\n",
    "        eu = np.load(\"../data/lightgcn/embedding_firms_{}.npy\".format(first_year+y))\n",
    "        B.append((np.dot(eu,eu.T)))"
   ]
  },
  {
   "cell_type": "code",
   "execution_count": 8,
   "id": "9b220923",
   "metadata": {},
   "outputs": [],
   "source": [
    "# target or acquirer prediction\n",
    "if ex == 0 or ex == 1:\n",
    "    HR = []\n",
    "    f1 = []\n",
    "    MAP = []\n",
    "    for j in range(20):\n",
    "        f1_single = []\n",
    "        MAP_single = []\n",
    "        HR_single = 0\n",
    "        print(\"it:\\t{}\".format(j),end = \"\\r\")\n",
    "        for y in range(N_years):\n",
    "            for i in range(ma[np.where(ma[:,2]==first_year+y)[0]].shape[0]):\n",
    "                may = ma[np.where(ma[:,2]==first_year+y)[0]]\n",
    "                predict = []\n",
    "                true = []\n",
    "                generate = []\n",
    "                predict.append(B[y][may[i,0],may[i,1]])\n",
    "                true.append(1)\n",
    "                # generate negative samples\n",
    "                for j in range(CI):\n",
    "                    check = 0\n",
    "                    while check == 0:\n",
    "                        r2 = np.random.randint(0, N_comp)\n",
    "                        if np.sum(M[y][r2,:]) != 0 and r2 not in generate and r2 != may[i,1] and r2 != may[i,0]:\n",
    "                            check = 1\n",
    "                    generate.append(r2)\n",
    "                    if ex == 0:\n",
    "                        predict.append(B[y][r2,may[i,1]]) \n",
    "                    elif ex == 1:\n",
    "                        predict.append(B[y][may[i,0],r2])   \n",
    "                    true.append(0)\n",
    "                f1_single.append(metr.Best_F1(np.array(true),np.array(predict))[1])\n",
    "                MAP_single.append(sklearn.metrics.average_precision_score(np.array(true),np.array(predict)))\n",
    "                if np.sum(np.array(predict)) != 0:\n",
    "                    HR_single += np.sum( np.array(true)[np.flip(np.array(predict).argsort())][:5] )            \n",
    "        HR.append(HR_single)\n",
    "        MAP.append(np.mean(MAP_single))\n",
    "        f1.append(np.mean(f1_single))\n",
    "    f1 = np.array(f1)\n",
    "    HR = np.array(HR)/ma.shape[0]\n",
    "    MAP = np.array(MAP)\n",
    "    print(\"{},{},{}\".format(round(np.mean(f1),4),round(np.mean(MAP),4),round(np.mean(HR),4)))"
   ]
  },
  {
   "cell_type": "code",
   "execution_count": 42,
   "id": "70c37afe",
   "metadata": {},
   "outputs": [
    {
     "name": "stdout",
     "output_type": "stream",
     "text": [
      "50000\n",
      "5000\n",
      "5000\n",
      "5000\n",
      "5000\n",
      "5000\n",
      "5000\n",
      "5000\n",
      "5000\n",
      "5000\n",
      "5000\n"
     ]
    },
    {
     "name": "stderr",
     "output_type": "stream",
     "text": [
      "C:\\Users\\scanu\\AppData\\Roaming\\Python\\Python39\\site-packages\\numpy\\core\\fromnumeric.py:88: RuntimeWarning: overflow encountered in reduce\n",
      "  return ufunc.reduce(obj, axis, dtype, out, **passkwargs)\n",
      "C:\\Users\\scanu\\AppData\\Roaming\\Python\\Python39\\site-packages\\numpy\\core\\fromnumeric.py:88: RuntimeWarning: overflow encountered in reduce\n",
      "  return ufunc.reduce(obj, axis, dtype, out, **passkwargs)\n"
     ]
    },
    {
     "name": "stdout",
     "output_type": "stream",
     "text": [
      "0.0474,0.0127,0.044\n"
     ]
    }
   ],
   "source": [
    "if ex == 2:\n",
    "    f1 = []\n",
    "    AUCPR = []\n",
    "    prec = []\n",
    "    for j in range(1):\n",
    "        print(f\"it:\\t{j}\",end = \"\\r\")\n",
    "        predict = []\n",
    "        true = []\n",
    "        for y in range(N_years):\n",
    "            may = ma[np.where(ma[:,2]==first_year+y)[0]]\n",
    "            for i in range(may.shape[0]):\n",
    "                predict.append(B[y][may[i,0],may[i,1]])\n",
    "                true.append(1)\n",
    "            # generate negative samples\n",
    "            CI = 5000 #int((N_comp**2 - N_comp)/2 / len(may))\n",
    "            print(CI)\n",
    "            for i in range(CI*may.shape[0]):\n",
    "                check = 0\n",
    "                while check == 0:\n",
    "                    r1 = np.random.randint(0,N_comp)\n",
    "                    r2 = np.random.randint(0,N_comp)\n",
    "                    if np.sum(M[y][r1,:]) != 0 and np.sum(M[y][r2,:]) != 0:\n",
    "                        check = 1\n",
    "                predict.append(B[y][r1,r2])\n",
    "                true.append(0)\n",
    "        predict = np.array(predict)\n",
    "        true = np.array(true)\n",
    "        f1.append(metr.Best_F1(true,predict)[1])\n",
    "        prec.append( np.sum( np.array(true)[np.flip(np.array(predict).argsort())][:500] )/500)\n",
    "        AUCPR.append(sklearn.metrics.average_precision_score(true,predict))\n",
    "    f1 = np.array(f1)\n",
    "    AUCPR = np.array(AUCPR)\n",
    "    prec = np.array(prec)\n",
    "    print(\"{},{},{}\".format(round(np.mean(f1),4),round(np.mean(AUCPR),4),round(np.mean(prec),4)))"
   ]
  },
  {
   "cell_type": "code",
   "execution_count": 7,
   "id": "328e6a1f",
   "metadata": {},
   "outputs": [],
   "source": [
    "import matplotlib.pyplot as plt"
   ]
  },
  {
   "cell_type": "code",
   "execution_count": 12,
   "id": "5d1defff",
   "metadata": {},
   "outputs": [
    {
     "data": {
      "text/plain": [
       "5943.47615799233"
      ]
     },
     "execution_count": 12,
     "metadata": {},
     "output_type": "execute_result"
    }
   ],
   "source": [
    "np.max(M[0])"
   ]
  },
  {
   "cell_type": "code",
   "execution_count": 13,
   "id": "5457e801",
   "metadata": {},
   "outputs": [
    {
     "data": {
      "text/html": [
       "<div>\n",
       "<style scoped>\n",
       "    .dataframe tbody tr th:only-of-type {\n",
       "        vertical-align: middle;\n",
       "    }\n",
       "\n",
       "    .dataframe tbody tr th {\n",
       "        vertical-align: top;\n",
       "    }\n",
       "\n",
       "    .dataframe thead th {\n",
       "        text-align: right;\n",
       "    }\n",
       "</style>\n",
       "<table border=\"1\" class=\"dataframe\">\n",
       "  <thead>\n",
       "    <tr style=\"text-align: right;\">\n",
       "      <th></th>\n",
       "      <th>Target</th>\n",
       "      <th>Acquirer</th>\n",
       "      <th>Year</th>\n",
       "    </tr>\n",
       "  </thead>\n",
       "  <tbody>\n",
       "    <tr>\n",
       "      <th>0</th>\n",
       "      <td>4777</td>\n",
       "      <td>265</td>\n",
       "      <td>2002</td>\n",
       "    </tr>\n",
       "    <tr>\n",
       "      <th>1</th>\n",
       "      <td>7909</td>\n",
       "      <td>47</td>\n",
       "      <td>2002</td>\n",
       "    </tr>\n",
       "    <tr>\n",
       "      <th>2</th>\n",
       "      <td>6361</td>\n",
       "      <td>2311</td>\n",
       "      <td>2002</td>\n",
       "    </tr>\n",
       "    <tr>\n",
       "      <th>3</th>\n",
       "      <td>1395</td>\n",
       "      <td>14</td>\n",
       "      <td>2002</td>\n",
       "    </tr>\n",
       "    <tr>\n",
       "      <th>4</th>\n",
       "      <td>7909</td>\n",
       "      <td>47</td>\n",
       "      <td>2002</td>\n",
       "    </tr>\n",
       "  </tbody>\n",
       "</table>\n",
       "</div>"
      ],
      "text/plain": [
       "   Target  Acquirer  Year\n",
       "0    4777       265  2002\n",
       "1    7909        47  2002\n",
       "2    6361      2311  2002\n",
       "3    1395        14  2002\n",
       "4    7909        47  2002"
      ]
     },
     "execution_count": 13,
     "metadata": {},
     "output_type": "execute_result"
    }
   ],
   "source": [
    "a = pd.read_csv(\"../data/ma.txt\")\n",
    "a.head()"
   ]
  },
  {
   "cell_type": "code",
   "execution_count": 16,
   "id": "22383903",
   "metadata": {},
   "outputs": [],
   "source": [
    "b = mmread('../data/M/M_{}.mtx'.format(first_year+y))"
   ]
  },
  {
   "cell_type": "code",
   "execution_count": 18,
   "id": "a16b7215",
   "metadata": {},
   "outputs": [
    {
     "data": {
      "text/plain": [
       "array([0.03703704, 0.64285714, 0.125     , ..., 0.16666667, 0.33333333,\n",
       "       0.16666667])"
      ]
     },
     "execution_count": 18,
     "metadata": {},
     "output_type": "execute_result"
    }
   ],
   "source": [
    "b.data"
   ]
  },
  {
   "cell_type": "code",
   "execution_count": null,
   "id": "7779a5d6",
   "metadata": {},
   "outputs": [],
   "source": []
  }
 ],
 "metadata": {
  "kernelspec": {
   "display_name": "Python 3 (ipykernel)",
   "language": "python",
   "name": "python3"
  },
  "language_info": {
   "codemirror_mode": {
    "name": "ipython",
    "version": 3
   },
   "file_extension": ".py",
   "mimetype": "text/x-python",
   "name": "python",
   "nbconvert_exporter": "python",
   "pygments_lexer": "ipython3",
   "version": "3.9.13"
  }
 },
 "nbformat": 4,
 "nbformat_minor": 5
}
